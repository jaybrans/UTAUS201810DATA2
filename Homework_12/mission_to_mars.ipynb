{
 "cells": [
  {
   "cell_type": "code",
   "execution_count": 76,
   "metadata": {},
   "outputs": [],
   "source": [
    "from bs4 import BeautifulSoup as bs\n",
    "from splinter import Browser\n",
    "import os\n",
    "import pandas as pd\n",
    "import time\n",
    "import lxml\n",
    "import html5lib\n",
    "from urllib.parse import urlsplit"
   ]
  },
  {
   "cell_type": "code",
   "execution_count": 77,
   "metadata": {},
   "outputs": [],
   "source": [
    "#MARS\n",
    "my_path = {\"executable_path\":\"C:\\chromedriver_win32\\chromedriver\"}\n",
    "browser = Browser(\"chrome\", **my_path, headless = False)\n",
    "mars_url = \"https://mars.nasa.gov/news/\"\n",
    "browser.visit(mars_url)\n",
    "html = browser.html\n",
    "soup = bs(html,\"html.parser\")"
   ]
  },
  {
   "cell_type": "code",
   "execution_count": 78,
   "metadata": {},
   "outputs": [
    {
     "name": "stdout",
     "output_type": "stream",
     "text": [
      "<div class=\"article_teaser_body\">The first CubeSat mission to deep space may have reached their limit, but they could inspire future NASA missions.</div>\n"
     ]
    }
   ],
   "source": [
    "# inspecting the html elements we can see what to query\n",
    "news_title = soup.find(\"div\",class_=\"content_title\")\n",
    "time.sleep(3)\n",
    "news_paragraph = soup.find(\"div\", class_=\"article_teaser_body\")\n",
    "print(news_paragraph)\n",
    "time.sleep(5)"
   ]
  },
  {
   "cell_type": "code",
   "execution_count": 79,
   "metadata": {},
   "outputs": [
    {
     "name": "stdout",
     "output_type": "stream",
     "text": [
      "Title:Beyond Mars, the Mini MarCO Spacecraft Fall Silent\n",
      "Paragraph:The first CubeSat mission to deep space may have reached their limit, but they could inspire future NASA missions.\n"
     ]
    }
   ],
   "source": [
    "print(\"Title:\" + news_title.text)\n",
    "print(\"Paragraph:\" + news_paragraph.text)"
   ]
  },
  {
   "cell_type": "code",
   "execution_count": 80,
   "metadata": {},
   "outputs": [
    {
     "name": "stdout",
     "output_type": "stream",
     "text": [
      "https://www.jpl.nasa.gov/\n"
     ]
    }
   ],
   "source": [
    "#JPL MARS SPACE IMAGES\n",
    "url_image = \"https://www.jpl.nasa.gov/spaceimages/?search=&category=featured#submit\"\n",
    "browser.visit(url_image)\n",
    "base_url = \"{0.scheme}://{0.netloc}/\".format(urlsplit(url_image))\n",
    "print(base_url)\n"
   ]
  },
  {
   "cell_type": "code",
   "execution_count": 81,
   "metadata": {},
   "outputs": [],
   "source": [
    "img_path = \"//*[@id=\\\"page\\\"]/section[3]/div/ul/li[1]/a/div/div[2]/img\"\n",
    "results = browser.find_by_xpath(img_path)\n",
    "time.sleep(2)\n",
    "img = results[0]\n",
    "img.click()"
   ]
  },
  {
   "cell_type": "code",
   "execution_count": 82,
   "metadata": {},
   "outputs": [
    {
     "ename": "TypeError",
     "evalue": "'NoneType' object is not subscriptable",
     "output_type": "error",
     "traceback": [
      "\u001b[1;31m---------------------------------------------------------------------------\u001b[0m",
      "\u001b[1;31mTypeError\u001b[0m                                 Traceback (most recent call last)",
      "\u001b[1;32m<ipython-input-82-1ccc90c190ea>\u001b[0m in \u001b[0;36m<module>\u001b[1;34m\u001b[0m\n\u001b[0;32m      2\u001b[0m \u001b[0mhtml_data\u001b[0m \u001b[1;33m=\u001b[0m \u001b[0mbs\u001b[0m\u001b[1;33m(\u001b[0m\u001b[0mhtml_img\u001b[0m\u001b[1;33m,\u001b[0m \u001b[1;34m\"html.parser\"\u001b[0m\u001b[1;33m)\u001b[0m\u001b[1;33m\u001b[0m\u001b[1;33m\u001b[0m\u001b[0m\n\u001b[0;32m      3\u001b[0m \u001b[0mimg_url\u001b[0m \u001b[1;33m=\u001b[0m \u001b[0mhtml_data\u001b[0m\u001b[1;33m.\u001b[0m\u001b[0mfind\u001b[0m\u001b[1;33m(\u001b[0m\u001b[1;34m\"img\"\u001b[0m\u001b[1;33m,\u001b[0m \u001b[0mclass_\u001b[0m\u001b[1;33m=\u001b[0m\u001b[1;34m\"fancybox-image\"\u001b[0m\u001b[1;33m)\u001b[0m\u001b[1;33m\u001b[0m\u001b[1;33m\u001b[0m\u001b[0m\n\u001b[1;32m----> 4\u001b[1;33m \u001b[0mimg_url_str\u001b[0m \u001b[1;33m=\u001b[0m \u001b[0mstr\u001b[0m\u001b[1;33m(\u001b[0m\u001b[0mimg_url\u001b[0m\u001b[1;33m[\u001b[0m\u001b[1;34m'src'\u001b[0m\u001b[1;33m]\u001b[0m\u001b[1;33m)\u001b[0m\u001b[1;33m\u001b[0m\u001b[1;33m\u001b[0m\u001b[0m\n\u001b[0m\u001b[0;32m      5\u001b[0m \u001b[0mfull_img_url\u001b[0m \u001b[1;33m=\u001b[0m \u001b[0mbase_url\u001b[0m \u001b[1;33m+\u001b[0m \u001b[0mimg_url_str\u001b[0m\u001b[1;33m\u001b[0m\u001b[1;33m\u001b[0m\u001b[0m\n\u001b[0;32m      6\u001b[0m \u001b[0mprint\u001b[0m\u001b[1;33m(\u001b[0m\u001b[0mfull_img_url\u001b[0m\u001b[1;33m)\u001b[0m\u001b[1;33m\u001b[0m\u001b[1;33m\u001b[0m\u001b[0m\n",
      "\u001b[1;31mTypeError\u001b[0m: 'NoneType' object is not subscriptable"
     ]
    }
   ],
   "source": [
    "html_img = browser.html\n",
    "html_data = bs(html_img, \"html.parser\")\n",
    "img_url = html_data.find(\"img\", class_=\"fancybox-image\")\n",
    "img_url_str = str(img_url['src'])\n",
    "full_img_url = base_url + img_url_str\n",
    "print(full_img_url)"
   ]
  },
  {
   "cell_type": "code",
   "execution_count": null,
   "metadata": {},
   "outputs": [],
   "source": [
    "#Mars Weather\n",
    "mars_weather_url = \"https://twitter.com/marswxreport?lang=en\"\n",
    "browser.visit(mars_weather_url)\n",
    "html_weather = browser.html\n",
    "html_weather_data = bs(html_weather, \"html.parser\")\n",
    "mars_weather = html_weather_data.find(\"p\", class_=\"TweetTextSize TweetTextSize--normal js-tweet-text tweet-text\").text\n",
    "print(mars_weather)\n"
   ]
  },
  {
   "cell_type": "code",
   "execution_count": null,
   "metadata": {},
   "outputs": [],
   "source": [
    "#Mars Facts\n",
    "\n",
    "url_facts = \"https://space-facts.com/mars/\"\n",
    "mars_data_table = pd.read_html(url_facts)\n",
    "print(mars_data_table[0])"
   ]
  },
  {
   "cell_type": "code",
   "execution_count": null,
   "metadata": {},
   "outputs": [],
   "source": [
    "df_mars_facts = mars_data_table[0]\n",
    "df_mars_facts.columns = [\"Parameter\", \"Values\"]\n",
    "df_mars_facts.set_index([\"Parameter\"])"
   ]
  },
  {
   "cell_type": "code",
   "execution_count": null,
   "metadata": {},
   "outputs": [],
   "source": [
    "\n",
    "mars_html_table = df_mars_facts.to_html()\n",
    "mars_html_table = mars_html_table.replace(\"\\n\", \"\")\n",
    "mars_html_table"
   ]
  },
  {
   "cell_type": "code",
   "execution_count": null,
   "metadata": {},
   "outputs": [],
   "source": [
    "#Mars Hemispheres\n",
    "url_hemisphere = \"https://astrogeology.usgs.gov/search/results?q=hemisphere+enhanced&k1=target&v1=Mars\"\n",
    "browser.visit(url_hemisphere)\n"
   ]
  },
  {
   "cell_type": "code",
   "execution_count": null,
   "metadata": {},
   "outputs": [],
   "source": [
    "hemisphere_base_url = \"{0.scheme}://{0.netloc}/\".format(urlsplit(url_hemisphere))\n",
    "print(hemisphere_base_url)"
   ]
  },
  {
   "cell_type": "code",
   "execution_count": null,
   "metadata": {},
   "outputs": [],
   "source": [
    "hemisphere_img_urls = []\n",
    "results = browser.find_by_xpath( \"//*[@id='product-section']/div[2]/div[1]/a/img\").click()\n",
    "time.sleep(2)\n",
    "cerberus_open_click = browser.find_by_xpath( \"//*[@id='wide-image-toggle']\").click()\n",
    "time.sleep(2)\n",
    "cerberus_image = browser.html\n",
    "soup = bs(cerberus_image, \"html.parser\")\n",
    "cerberus_url = soup.find(\"img\", class_=\"wide-image\")[\"src\"]\n",
    "cerberus_img_url = hemisphere_base_url + cerberus_url\n",
    "print(cerberus_img_url)\n",
    "cerberus_title = soup.find(\"h2\",class_=\"title\").text\n",
    "print(cerberus_title)\n",
    "back_button = browser.find_by_xpath(\"//*[@id='splashy']/div[1]/div[1]/div[3]/section/a\").click()\n",
    "cerberus = {\"image title\":cerberus_title, \"image url\": cerberus_img_url}\n",
    "hemisphere_img_urls.append(cerberus)"
   ]
  },
  {
   "cell_type": "code",
   "execution_count": null,
   "metadata": {},
   "outputs": [],
   "source": [
    "\n",
    "results1 = browser.find_by_xpath( \"//*[@id='product-section']/div[2]/div[2]/a/img\").click()\n",
    "time.sleep(2)\n",
    "schiaparelli_open_click = browser.find_by_xpath( \"//*[@id='wide-image-toggle']\").click()\n",
    "time.sleep(2)\n",
    "schiaparelli_image = browser.html\n",
    "soup = bs(schiaparelli_image, \"html.parser\")\n",
    "schiaparelli_url = soup.find(\"img\", class_=\"wide-image\")[\"src\"]\n",
    "schiaparelli_img_url = hemisphere_base_url + schiaparelli_url\n",
    "print(schiaparelli_img_url)\n",
    "schiaparelli_title = soup.find(\"h2\",class_=\"title\").text\n",
    "print(schiaparelli_title)\n",
    "back_button = browser.find_by_xpath(\"//*[@id='splashy']/div[1]/div[1]/div[3]/section/a\").click()\n",
    "schiaparelli = {\"image title\":schiaparelli_title, \"image url\": schiaparelli_img_url}\n",
    "hemisphere_img_urls.append(schiaparelli)"
   ]
  },
  {
   "cell_type": "code",
   "execution_count": null,
   "metadata": {},
   "outputs": [],
   "source": [
    "results1 = browser.find_by_xpath( \"//*[@id='product-section']/div[2]/div[3]/a/img\").click()\n",
    "time.sleep(2)\n",
    "syrtis_major_open_click = browser.find_by_xpath( \"//*[@id='wide-image-toggle']\").click()\n",
    "time.sleep(2)\n",
    "syrtis_major_image = browser.html\n",
    "soup = bs(syrtis_major_image, \"html.parser\")\n",
    "syrtis_major_url = soup.find(\"img\", class_=\"wide-image\")[\"src\"]\n",
    "syrtis_major_img_url = hemisphere_base_url + syrtis_major_url\n",
    "print(syrtis_major_img_url)\n",
    "syrtis_major_title = soup.find(\"h2\",class_=\"title\").text\n",
    "print(syrtis_major_title)\n",
    "back_button = browser.find_by_xpath(\"//*[@id='splashy']/div[1]/div[1]/div[3]/section/a\").click()\n",
    "syrtis_major = {\"image title\":syrtis_major_title, \"image url\": syrtis_major_img_url}\n",
    "hemisphere_img_urls.append(syrtis_major)"
   ]
  },
  {
   "cell_type": "code",
   "execution_count": null,
   "metadata": {},
   "outputs": [],
   "source": [
    "results1 = browser.find_by_xpath( \"//*[@id='product-section']/div[2]/div[4]/a/img\").click()\n",
    "time.sleep(2)\n",
    "valles_marineris_open_click = browser.find_by_xpath( \"//*[@id='wide-image-toggle']\").click()\n",
    "time.sleep(2)\n",
    "valles_marineris_image = browser.html\n",
    "soup = bs(valles_marineris_image, \"html.parser\")\n",
    "valles_marineris_url = soup.find(\"img\", class_=\"wide-image\")[\"src\"]\n",
    "time.sleep(2)\n",
    "valles_marineris_img_url = hemisphere_base_url + syrtis_major_url\n",
    "print(valles_marineris_img_url)\n",
    "valles_marineris_title = soup.find(\"h2\",class_=\"title\").text\n",
    "print(valles_marineris_title)\n",
    "back_button = browser.find_by_xpath(\"//*[@id='splashy']/div[1]/div[1]/div[3]/section/a\").click()\n",
    "valles_marineris = {\"image title\":valles_marineris_title, \"image url\": valles_marineris_img_url}\n",
    "hemisphere_img_urls.append(valles_marineris)"
   ]
  },
  {
   "cell_type": "code",
   "execution_count": null,
   "metadata": {},
   "outputs": [],
   "source": [
    "hemisphere_img_urls"
   ]
  },
  {
   "cell_type": "code",
   "execution_count": null,
   "metadata": {},
   "outputs": [],
   "source": []
  }
 ],
 "metadata": {
  "kernelspec": {
   "display_name": "Python 3",
   "language": "python",
   "name": "python3"
  },
  "language_info": {
   "codemirror_mode": {
    "name": "ipython",
    "version": 3
   },
   "file_extension": ".py",
   "mimetype": "text/x-python",
   "name": "python",
   "nbconvert_exporter": "python",
   "pygments_lexer": "ipython3",
   "version": "3.7.1"
  }
 },
 "nbformat": 4,
 "nbformat_minor": 2
}
